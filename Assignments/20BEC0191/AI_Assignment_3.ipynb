{
  "nbformat": 4,
  "nbformat_minor": 0,
  "metadata": {
    "colab": {
      "provenance": []
    },
    "kernelspec": {
      "name": "python3",
      "display_name": "Python 3"
    },
    "language_info": {
      "name": "python"
    }
  },
  "cells": [
    {
      "cell_type": "code",
      "execution_count": 10,
      "metadata": {
        "id": "F0qbxfzjHj-U"
      },
      "outputs": [],
      "source": [
        "import numpy as np\n",
        "from tensorflow.keras.preprocessing import image\n",
        "from tensorflow.keras.preprocessing.image import ImageDataGenerator"
      ]
    },
    {
      "cell_type": "code",
      "source": [
        "train_gen = ImageDataGenerator(rescale=(1/255))\n",
        "test_gen = ImageDataGenerator(rescale=(1/255))"
      ],
      "metadata": {
        "id": "tSJDr8ngNmIQ"
      },
      "execution_count": 11,
      "outputs": []
    },
    {
      "cell_type": "code",
      "source": [
        "from google.colab import drive\n",
        "drive.mount('/content/drive')"
      ],
      "metadata": {
        "colab": {
          "base_uri": "https://localhost:8080/"
        },
        "id": "lYD-Go5HuRVU",
        "outputId": "bbf33791-4d6d-4aa5-9c66-ba37481eafac"
      },
      "execution_count": 12,
      "outputs": [
        {
          "output_type": "stream",
          "name": "stdout",
          "text": [
            "Drive already mounted at /content/drive; to attempt to forcibly remount, call drive.mount(\"/content/drive\", force_remount=True).\n"
          ]
        }
      ]
    },
    {
      "cell_type": "code",
      "source": [
        "train = train_gen.flow_from_directory('/content/drive/MyDrive/assignment_3/train_data/train_data',\n",
        "                                      target_size=(120, 120),\n",
        "                                      class_mode='categorical', \n",
        "                                      batch_size=8)\n",
        "test = test_gen.flow_from_directory('/content/drive/MyDrive/assignment_3/test_data/test_data',\n",
        "                                    target_size=(120, 120),\n",
        "                                      class_mode='categorical', \n",
        "                                      batch_size=8)"
      ],
      "metadata": {
        "colab": {
          "base_uri": "https://localhost:8080/"
        },
        "id": "tfKH_c5yNtvy",
        "outputId": "8cd3c035-24ef-4852-e5b6-35e60baed037"
      },
      "execution_count": 13,
      "outputs": [
        {
          "output_type": "stream",
          "name": "stdout",
          "text": [
            "Found 150 images belonging to 16 classes.\n",
            "Found 155 images belonging to 16 classes.\n"
          ]
        }
      ]
    },
    {
      "cell_type": "code",
      "source": [
        "test.class_indices"
      ],
      "metadata": {
        "colab": {
          "base_uri": "https://localhost:8080/"
        },
        "id": "2cVKy5vmOaX3",
        "outputId": "4809e707-4437-4f91-fd22-7c39bdd53579"
      },
      "execution_count": 14,
      "outputs": [
        {
          "output_type": "execute_result",
          "data": {
            "text/plain": [
              "{'blasti': 0,\n",
              " 'bonegl': 1,\n",
              " 'brhkyt': 2,\n",
              " 'cbrtsh': 3,\n",
              " 'cmnmyn': 4,\n",
              " 'gretit': 5,\n",
              " 'hilpig': 6,\n",
              " 'himbul': 7,\n",
              " 'himgri': 8,\n",
              " 'hsparo': 9,\n",
              " 'indvul': 10,\n",
              " 'jglowl': 11,\n",
              " 'lbicrw': 12,\n",
              " 'mgprob': 13,\n",
              " 'rebimg': 14,\n",
              " 'wcrsrt': 15}"
            ]
          },
          "metadata": {},
          "execution_count": 14
        }
      ]
    },
    {
      "cell_type": "code",
      "source": [
        "train.classes"
      ],
      "metadata": {
        "colab": {
          "base_uri": "https://localhost:8080/"
        },
        "id": "Koskg37JOcOT",
        "outputId": "08d34345-f541-4316-fecb-bcc082e11944"
      },
      "execution_count": 15,
      "outputs": [
        {
          "output_type": "execute_result",
          "data": {
            "text/plain": [
              "array([ 0,  0,  0,  0,  0,  0,  0,  0,  0,  0,  0,  0,  0,  0,  0,  1,  1,\n",
              "        1,  1,  1,  1,  2,  2,  2,  2,  2,  3,  3,  3,  3,  3,  3,  3,  4,\n",
              "        4,  4,  4,  4,  4,  4,  5,  5,  5,  5,  5,  5,  6,  6,  6,  6,  6,\n",
              "        6,  6,  6,  6,  6,  7,  7,  7,  7,  7,  7,  7,  7,  7,  7,  7,  7,\n",
              "        7,  7,  7,  7,  7,  7,  8,  8,  8,  8,  8,  8,  8,  8,  8,  8,  8,\n",
              "        8,  8,  8,  8,  8,  8,  8,  8,  8,  9,  9,  9,  9,  9,  9,  9,  9,\n",
              "        9, 10, 10, 10, 10, 10, 10, 10, 10, 10, 11, 11, 11, 11, 11, 11, 12,\n",
              "       12, 12, 12, 12, 12, 13, 13, 13, 13, 13, 13, 14, 14, 14, 14, 14, 14,\n",
              "       14, 14, 14, 14, 15, 15, 15, 15, 15, 15, 15, 15, 15, 15],\n",
              "      dtype=int32)"
            ]
          },
          "metadata": {},
          "execution_count": 15
        }
      ]
    },
    {
      "cell_type": "code",
      "source": [
        "from tensorflow.keras.layers import Convolution2D,MaxPooling2D,Flatten,Dense\n",
        "from tensorflow.keras.models import Sequential"
      ],
      "metadata": {
        "id": "WVm59gVkOeoV"
      },
      "execution_count": 16,
      "outputs": []
    },
    {
      "cell_type": "code",
      "source": [
        "cnn = Sequential()\n",
        "cnn.add(Convolution2D(12,(3,3),activation='relu',input_shape=(120, 120, 3)))\n",
        "cnn.add(MaxPooling2D(pool_size=(2,2)))\n",
        "\n",
        "cnn.add(Convolution2D(24,(3,3),activation='relu'))\n",
        "cnn.add(MaxPooling2D(pool_size=(2,2)))\n",
        "\n",
        "cnn.add(Convolution2D(36,(3,3),activation='relu'))\n",
        "cnn.add(MaxPooling2D(pool_size=(2,2)))\n",
        "\n",
        "cnn.add(Flatten())\n",
        "cnn.add(Dense(32,activation='relu'))\n",
        "cnn.add(Dense(16,activation='relu'))\n",
        "cnn.add(Dense(16,activation='softmax'))"
      ],
      "metadata": {
        "id": "xRfoN0pcOjUB"
      },
      "execution_count": 17,
      "outputs": []
    },
    {
      "cell_type": "code",
      "source": [
        "cnn.compile(optimizer='adam',loss='categorical_crossentropy',metrics=['accuracy'])"
      ],
      "metadata": {
        "id": "UHPgUxskQ6ZV"
      },
      "execution_count": 18,
      "outputs": []
    },
    {
      "cell_type": "code",
      "source": [
        "from tensorflow.keras.callbacks import EarlyStopping\n",
        "early_stop = EarlyStopping(monitor='accuracy',patience=8)"
      ],
      "metadata": {
        "id": "pGEt7jwHUoDi"
      },
      "execution_count": 19,
      "outputs": []
    },
    {
      "cell_type": "code",
      "source": [
        "cnn.fit(train,batch_size=8,epochs=20,callbacks=early_stop)"
      ],
      "metadata": {
        "colab": {
          "base_uri": "https://localhost:8080/"
        },
        "id": "k3uQ6QbNRVBl",
        "outputId": "2dc3a42a-b0cb-45a4-ee58-b0a06d6870bf"
      },
      "execution_count": 20,
      "outputs": [
        {
          "output_type": "stream",
          "name": "stdout",
          "text": [
            "Epoch 1/20\n",
            "19/19 [==============================] - 100s 5s/step - loss: 2.7650 - accuracy: 0.1000\n",
            "Epoch 2/20\n",
            "19/19 [==============================] - 49s 3s/step - loss: 2.6642 - accuracy: 0.1400\n",
            "Epoch 3/20\n",
            "19/19 [==============================] - 46s 2s/step - loss: 2.5393 - accuracy: 0.1800\n",
            "Epoch 4/20\n",
            "19/19 [==============================] - 46s 2s/step - loss: 2.4367 - accuracy: 0.1800\n",
            "Epoch 5/20\n",
            "19/19 [==============================] - 46s 2s/step - loss: 2.3138 - accuracy: 0.2267\n",
            "Epoch 6/20\n",
            "19/19 [==============================] - 45s 2s/step - loss: 2.2300 - accuracy: 0.2800\n",
            "Epoch 7/20\n",
            "19/19 [==============================] - 47s 2s/step - loss: 2.0896 - accuracy: 0.3267\n",
            "Epoch 8/20\n",
            "19/19 [==============================] - 46s 2s/step - loss: 2.0336 - accuracy: 0.3200\n",
            "Epoch 9/20\n",
            "19/19 [==============================] - 52s 3s/step - loss: 1.8504 - accuracy: 0.4200\n",
            "Epoch 10/20\n",
            "19/19 [==============================] - 52s 3s/step - loss: 1.6757 - accuracy: 0.4133\n",
            "Epoch 11/20\n",
            "19/19 [==============================] - 46s 2s/step - loss: 1.4380 - accuracy: 0.4933\n",
            "Epoch 12/20\n",
            "19/19 [==============================] - 46s 2s/step - loss: 1.3332 - accuracy: 0.5867\n",
            "Epoch 13/20\n",
            "19/19 [==============================] - 46s 2s/step - loss: 1.3316 - accuracy: 0.5533\n",
            "Epoch 14/20\n",
            "19/19 [==============================] - 47s 2s/step - loss: 1.2717 - accuracy: 0.5533\n",
            "Epoch 15/20\n",
            "19/19 [==============================] - 48s 2s/step - loss: 1.0646 - accuracy: 0.6933\n",
            "Epoch 16/20\n",
            "19/19 [==============================] - 46s 2s/step - loss: 0.8763 - accuracy: 0.7400\n",
            "Epoch 17/20\n",
            "19/19 [==============================] - 46s 2s/step - loss: 0.7575 - accuracy: 0.7600\n",
            "Epoch 18/20\n",
            "19/19 [==============================] - 46s 2s/step - loss: 0.6822 - accuracy: 0.7800\n",
            "Epoch 19/20\n",
            "19/19 [==============================] - 51s 3s/step - loss: 0.5575 - accuracy: 0.8267\n",
            "Epoch 20/20\n",
            "19/19 [==============================] - 46s 2s/step - loss: 0.4600 - accuracy: 0.8667\n"
          ]
        },
        {
          "output_type": "execute_result",
          "data": {
            "text/plain": [
              "<keras.callbacks.History at 0x7fbd67702140>"
            ]
          },
          "metadata": {},
          "execution_count": 20
        }
      ]
    },
    {
      "cell_type": "code",
      "source": [
        "classes = [\"blasti\",\"bonegl\",\"brhkyt\",\"cbrtsh\",\"cmnmyn\",\"gretit\",\"hilpig\",\"himbul\",\"himgri\",\"hsparo\",\"indvul\",\"jglowl\",\"lbicrw\",\"mgprob\",\"rebimg\",\"wcrsrt\"]"
      ],
      "metadata": {
        "id": "tmND7mGgdCV5"
      },
      "execution_count": 21,
      "outputs": []
    },
    {
      "cell_type": "code",
      "source": [
        "path = '/content/drive/MyDrive/assignment_3/test_data/test_data/himbul/5857371972_ed4f88b275_o.jpg'\n",
        "img = image.load_img(path,target_size=(120,120))\n",
        "img = image.img_to_array(img)\n",
        "img = np.expand_dims(img,axis=0)\n",
        "pred = classes[np.argmax(cnn.predict(img))]\n",
        "print(\"model prediction : \",pred)"
      ],
      "metadata": {
        "colab": {
          "base_uri": "https://localhost:8080/"
        },
        "id": "SD1Ahx5bTWfJ",
        "outputId": "9a24e610-677f-491b-ab29-5af10154b518"
      },
      "execution_count": 22,
      "outputs": [
        {
          "output_type": "stream",
          "name": "stdout",
          "text": [
            "1/1 [==============================] - 0s 207ms/step\n",
            "model prediction :  blasti\n"
          ]
        }
      ]
    },
    {
      "cell_type": "code",
      "source": [
        "path = '/content/drive/MyDrive/assignment_3/test_data/test_data/himgri/IMG_5491.JPG'\n",
        "img = image.load_img(path,target_size=(120,120))\n",
        "img = image.img_to_array(img)\n",
        "img = np.expand_dims(img,axis=0)\n",
        "pred = classes[np.argmax(cnn.predict(img))]\n",
        "print(\"model prediction : \",pred)"
      ],
      "metadata": {
        "colab": {
          "base_uri": "https://localhost:8080/"
        },
        "id": "5WtQmLvVbFki",
        "outputId": "a227f907-54c1-42b6-d7e4-9e961da94670"
      },
      "execution_count": 23,
      "outputs": [
        {
          "output_type": "stream",
          "name": "stdout",
          "text": [
            "1/1 [==============================] - 0s 26ms/step\n",
            "model prediction :  himgri\n"
          ]
        }
      ]
    },
    {
      "cell_type": "code",
      "source": [
        "path = '/content/drive/MyDrive/assignment_3/test_data/test_data/indvul/DSC_1275.jpg'\n",
        "img = image.load_img(path,target_size=(120,120))\n",
        "img = image.img_to_array(img)\n",
        "img = np.expand_dims(img,axis=0)\n",
        "pred = classes[np.argmax(cnn.predict(img))]\n",
        "print(\"model prediction : \",pred)"
      ],
      "metadata": {
        "colab": {
          "base_uri": "https://localhost:8080/"
        },
        "id": "luo3FPLWbLZ9",
        "outputId": "07b46f15-d836-4736-a24b-d45a4dd26555"
      },
      "execution_count": 24,
      "outputs": [
        {
          "output_type": "stream",
          "name": "stdout",
          "text": [
            "1/1 [==============================] - 0s 33ms/step\n",
            "model prediction :  indvul\n"
          ]
        }
      ]
    },
    {
      "cell_type": "code",
      "source": [
        "path = '/content/drive/MyDrive/assignment_3/test_data/test_data/blasti/DSC_6400.jpg'\n",
        "img = image.load_img(path,target_size=(120,120))\n",
        "img = image.img_to_array(img)\n",
        "img = np.expand_dims(img,axis=0)\n",
        "pred = classes[np.argmax(cnn.predict(img))]\n",
        "print(\"model prediction : \",pred)"
      ],
      "metadata": {
        "colab": {
          "base_uri": "https://localhost:8080/"
        },
        "id": "IsRNv0DpbW3P",
        "outputId": "e4a0aeaa-fe50-41e9-f044-d75a40e7e7ec"
      },
      "execution_count": 25,
      "outputs": [
        {
          "output_type": "stream",
          "name": "stdout",
          "text": [
            "1/1 [==============================] - 0s 26ms/step\n",
            "model prediction :  blasti\n"
          ]
        }
      ]
    }
  ]
}